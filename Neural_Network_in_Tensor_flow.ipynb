{
 "cells": [
  {
   "cell_type": "code",
   "execution_count": 50,
   "metadata": {},
   "outputs": [],
   "source": [
    "import os\n",
    "import pandas as pd\n",
    "import matplotlib.pylab as plt\n",
    "# data cleaning and manipulation \n",
    "import numpy as np\n",
    "import tensorflow as tf"
   ]
  },
  {
   "cell_type": "code",
   "execution_count": 140,
   "metadata": {},
   "outputs": [],
   "source": [
    "# The data needs to be split into a training set and a test set\n",
    "# To use 80/20, set the training size to .8\n",
    "training_set_size_portion = .8\n",
    "# Set to True to shuffle the data before you split into training and # test sets\n",
    "do_shuffle = True\n",
    "# Keep track of the accuracy score\n",
    "accuracy_score = 0\n",
    "# The DNN has hidden units, set the spec for them here\n",
    "hidden_units_spec = [10,20,10]\n",
    "n_classes_spec = 2\n",
    "# Define the temp directory for keeping the model and checkpoints\n",
    "tmp_dir_spec = \"tmp/model\"\n",
    "# The number of training steps\n",
    "steps_spec = 2000\n",
    "# The number of epochs\n",
    "epochs_spec = 15\n",
    "# File Name\n",
    "file_name = \"clinical.csv\"\n",
    "#input variables\n",
    "features = ['TISSUE_SOURCE_SITE','ANEUPLOIDY_SCORE']\n",
    "# Here's the label that we want to predict\n",
    "labels = ['PERSON_NEOPLASM_CANCER_STATUS']\n",
    "# Here's the name we'll give our data\n"
   ]
  },
  {
   "cell_type": "code",
   "execution_count": 141,
   "metadata": {},
   "outputs": [
    {
     "data": {
      "text/html": [
       "<div>\n",
       "<style scoped>\n",
       "    .dataframe tbody tr th:only-of-type {\n",
       "        vertical-align: middle;\n",
       "    }\n",
       "\n",
       "    .dataframe tbody tr th {\n",
       "        vertical-align: top;\n",
       "    }\n",
       "\n",
       "    .dataframe thead th {\n",
       "        text-align: right;\n",
       "    }\n",
       "</style>\n",
       "<table border=\"1\" class=\"dataframe\">\n",
       "  <thead>\n",
       "    <tr style=\"text-align: right;\">\n",
       "      <th></th>\n",
       "      <th>PATIENT_NAME</th>\n",
       "      <th>CANCER_TYPE_ACRONYM</th>\n",
       "      <th>AGE</th>\n",
       "      <th>DAYS_TO_BIRTH</th>\n",
       "      <th>PERSON_NEOPLASM_CANCER_STATUS</th>\n",
       "      <th>RACE</th>\n",
       "      <th>TISSUE_SOURCE_SITE</th>\n",
       "      <th>ANEUPLOIDY_SCORE</th>\n",
       "      <th>GRADE</th>\n",
       "      <th>IGF2</th>\n",
       "      <th>COL1A1</th>\n",
       "      <th>EEF1A1</th>\n",
       "      <th>CLU</th>\n",
       "      <th>H19</th>\n",
       "      <th>GAPDH</th>\n",
       "      <th>CD74</th>\n",
       "      <th>C3</th>\n",
       "      <th>RPL8</th>\n",
       "      <th>RPS18</th>\n",
       "    </tr>\n",
       "  </thead>\n",
       "  <tbody>\n",
       "    <tr>\n",
       "      <th>0</th>\n",
       "      <td>TCGA-04-1348</td>\n",
       "      <td>1</td>\n",
       "      <td>44</td>\n",
       "      <td>16236</td>\n",
       "      <td>1</td>\n",
       "      <td>0</td>\n",
       "      <td>4</td>\n",
       "      <td>5</td>\n",
       "      <td>2</td>\n",
       "      <td>0.009529</td>\n",
       "      <td>0.069028</td>\n",
       "      <td>0.183659</td>\n",
       "      <td>0.028697</td>\n",
       "      <td>0.197605</td>\n",
       "      <td>0.449789</td>\n",
       "      <td>1.000000</td>\n",
       "      <td>0.131190</td>\n",
       "      <td>0.145715</td>\n",
       "      <td>0.165588</td>\n",
       "    </tr>\n",
       "    <tr>\n",
       "      <th>1</th>\n",
       "      <td>TCGA-04-1357</td>\n",
       "      <td>1</td>\n",
       "      <td>52</td>\n",
       "      <td>18999</td>\n",
       "      <td>1</td>\n",
       "      <td>0</td>\n",
       "      <td>4</td>\n",
       "      <td>12</td>\n",
       "      <td>2</td>\n",
       "      <td>0.040637</td>\n",
       "      <td>0.144819</td>\n",
       "      <td>0.658017</td>\n",
       "      <td>0.501043</td>\n",
       "      <td>0.004170</td>\n",
       "      <td>0.359466</td>\n",
       "      <td>1.000000</td>\n",
       "      <td>0.126835</td>\n",
       "      <td>0.359117</td>\n",
       "      <td>0.336082</td>\n",
       "    </tr>\n",
       "    <tr>\n",
       "      <th>2</th>\n",
       "      <td>TCGA-04-1362</td>\n",
       "      <td>1</td>\n",
       "      <td>59</td>\n",
       "      <td>21745</td>\n",
       "      <td>1</td>\n",
       "      <td>0</td>\n",
       "      <td>4</td>\n",
       "      <td>16</td>\n",
       "      <td>2</td>\n",
       "      <td>0.493489</td>\n",
       "      <td>0.050296</td>\n",
       "      <td>0.571312</td>\n",
       "      <td>0.086541</td>\n",
       "      <td>0.000640</td>\n",
       "      <td>0.301870</td>\n",
       "      <td>0.125584</td>\n",
       "      <td>0.068805</td>\n",
       "      <td>0.368181</td>\n",
       "      <td>0.304159</td>\n",
       "    </tr>\n",
       "    <tr>\n",
       "      <th>3</th>\n",
       "      <td>TCGA-04-1364</td>\n",
       "      <td>1</td>\n",
       "      <td>61</td>\n",
       "      <td>22294</td>\n",
       "      <td>1</td>\n",
       "      <td>0</td>\n",
       "      <td>4</td>\n",
       "      <td>31</td>\n",
       "      <td>2</td>\n",
       "      <td>1.000000</td>\n",
       "      <td>0.011310</td>\n",
       "      <td>0.164350</td>\n",
       "      <td>0.012596</td>\n",
       "      <td>0.009681</td>\n",
       "      <td>0.050258</td>\n",
       "      <td>0.004711</td>\n",
       "      <td>0.012590</td>\n",
       "      <td>0.149953</td>\n",
       "      <td>0.119808</td>\n",
       "    </tr>\n",
       "    <tr>\n",
       "      <th>4</th>\n",
       "      <td>TCGA-04-1365</td>\n",
       "      <td>1</td>\n",
       "      <td>87</td>\n",
       "      <td>31925</td>\n",
       "      <td>1</td>\n",
       "      <td>0</td>\n",
       "      <td>4</td>\n",
       "      <td>9</td>\n",
       "      <td>2</td>\n",
       "      <td>0.019999</td>\n",
       "      <td>0.052526</td>\n",
       "      <td>0.334952</td>\n",
       "      <td>0.105748</td>\n",
       "      <td>1.000000</td>\n",
       "      <td>0.483308</td>\n",
       "      <td>0.421103</td>\n",
       "      <td>0.073854</td>\n",
       "      <td>0.298796</td>\n",
       "      <td>0.221242</td>\n",
       "    </tr>\n",
       "  </tbody>\n",
       "</table>\n",
       "</div>"
      ],
      "text/plain": [
       "   PATIENT_NAME  CANCER_TYPE_ACRONYM  AGE  DAYS_TO_BIRTH  \\\n",
       "0  TCGA-04-1348                    1   44          16236   \n",
       "1  TCGA-04-1357                    1   52          18999   \n",
       "2  TCGA-04-1362                    1   59          21745   \n",
       "3  TCGA-04-1364                    1   61          22294   \n",
       "4  TCGA-04-1365                    1   87          31925   \n",
       "\n",
       "   PERSON_NEOPLASM_CANCER_STATUS  RACE  TISSUE_SOURCE_SITE  ANEUPLOIDY_SCORE  \\\n",
       "0                              1     0                   4                 5   \n",
       "1                              1     0                   4                12   \n",
       "2                              1     0                   4                16   \n",
       "3                              1     0                   4                31   \n",
       "4                              1     0                   4                 9   \n",
       "\n",
       "   GRADE      IGF2    COL1A1    EEF1A1       CLU       H19     GAPDH  \\\n",
       "0      2  0.009529  0.069028  0.183659  0.028697  0.197605  0.449789   \n",
       "1      2  0.040637  0.144819  0.658017  0.501043  0.004170  0.359466   \n",
       "2      2  0.493489  0.050296  0.571312  0.086541  0.000640  0.301870   \n",
       "3      2  1.000000  0.011310  0.164350  0.012596  0.009681  0.050258   \n",
       "4      2  0.019999  0.052526  0.334952  0.105748  1.000000  0.483308   \n",
       "\n",
       "       CD74        C3      RPL8     RPS18  \n",
       "0  1.000000  0.131190  0.145715  0.165588  \n",
       "1  1.000000  0.126835  0.359117  0.336082  \n",
       "2  0.125584  0.068805  0.368181  0.304159  \n",
       "3  0.004711  0.012590  0.149953  0.119808  \n",
       "4  0.421103  0.073854  0.298796  0.221242  "
      ]
     },
     "execution_count": 141,
     "metadata": {},
     "output_type": "execute_result"
    }
   ],
   "source": [
    "my_data = pd.read_csv(file_name, delimiter=',')\n",
    "my_data.head()"
   ]
  },
  {
   "cell_type": "code",
   "execution_count": 53,
   "metadata": {},
   "outputs": [],
   "source": [
    "# If the doShuffle property is true, we will shuffle with this\n",
    "# You really SHOULD shuffle to make sure that trends in data don't affect your learning\n",
    "if do_shuffle:\n",
    "    randomized_data = my_data.reindex(np.random.permutation(my_data.index))\n",
    "else:\n",
    "    randomized_data = my_data"
   ]
  },
  {
   "cell_type": "markdown",
   "metadata": {},
   "source": [
    "\n",
    "Now that you have randomized data, you can split it. Earlier you specified a training size portion, so calculate how many records should be in the training set based on that, and the rest will be in the test set. This code gives you the size of each set"
   ]
  },
  {
   "cell_type": "code",
   "execution_count": 54,
   "metadata": {},
   "outputs": [],
   "source": [
    "total_records = len(randomized_data)\n",
    "training_set_size = int(total_records * training_set_size_portion)\n",
    "test_set_size = total_records = training_set_size"
   ]
  },
  {
   "cell_type": "markdown",
   "metadata": {},
   "source": [
    "and this code then splits your data into the training features and labels sets based on the size I specified for my training features and labels. We’ll take from the ‘head’ of the randomized_data."
   ]
  },
  {
   "cell_type": "code",
   "execution_count": 55,
   "metadata": {},
   "outputs": [
    {
     "name": "stdout",
     "output_type": "stream",
     "text": [
      "     TISSUE_SOURCE_SITE  ANEUPLOIDY_SCORE\n",
      "182                  29                17\n",
      "264                  61                10\n",
      "24                   13                 7\n",
      "86                   24                14\n",
      "111                  24                12\n",
      "     PERSON_NEOPLASM_CANCER_STATUS\n",
      "182                              1\n",
      "264                              0\n",
      "24                               0\n",
      "86                               1\n",
      "111                              1\n"
     ]
    },
    {
     "data": {
      "text/plain": [
       "pandas.core.frame.DataFrame"
      ]
     },
     "execution_count": 55,
     "metadata": {},
     "output_type": "execute_result"
    }
   ],
   "source": [
    "# Build the training features and labels\n",
    "training_features = randomized_data.head(training_set_size)[features].copy()\n",
    "training_labels = randomized_data.head(training_set_size)[labels].copy()\n",
    "print(training_features.head())\n",
    "print(training_labels.head())\n",
    "type(training_labels)"
   ]
  },
  {
   "cell_type": "markdown",
   "metadata": {},
   "source": [
    "So, similarly, the records at the ‘tail’ can contain our test set. We’ll take test_set_size amount of them:\n",
    "\n"
   ]
  },
  {
   "cell_type": "code",
   "execution_count": 56,
   "metadata": {},
   "outputs": [],
   "source": [
    "\n",
    "testing_features = randomized_data.tail(test_set_size)[features].copy()\n",
    "testing_labels = randomized_data.tail(test_set_size)[labels].copy()"
   ]
  },
  {
   "cell_type": "markdown",
   "metadata": {},
   "source": [
    "# Create TensorFlow Feature Columns\n",
    "The Neural Network classifier expects the feature columns to be specified as tf.feature_column types. As our columns are numbers, we set them to numeric_column types."
   ]
  },
  {
   "cell_type": "code",
   "execution_count": 57,
   "metadata": {},
   "outputs": [],
   "source": [
    "feature_columns = [tf.feature_column.numeric_column(key) for key in features]"
   ]
  },
  {
   "cell_type": "markdown",
   "metadata": {},
   "source": [
    "# Define the Neural Network used to classify the data\n",
    "Given that we have all our data, we can now create our neural network object that we’ll train on the data. This takes the feature columns that you just created as well as parameters defining the number of hidden units in the neural network, as well as the number of classes. As it trains the network, it saves temporary files and checkpoints as well as the finished model out to the specified model directory.\n",
    "\n",
    "The hidden units are a direct specification of what the network looks like — so, for example our default here is [10, 20, 10], which means there’ll be a layer of 10 neurons, with each connected to 20 neurons in the next layer, each of which is connected to 10 neurons in the third layer.\n",
    "\n",
    "The classes are the number of classes we are classifying to. In this case we’re doing if a person has cancer or not, as far as breast cancer goes and it has 2 classifications, so we will train on 2 classes.\n",
    "give this code if you have classes in breast cancer data  ->     \"n_classes=n_classes_spec\","
   ]
  },
  {
   "cell_type": "code",
   "execution_count": 144,
   "metadata": {},
   "outputs": [
    {
     "name": "stdout",
     "output_type": "stream",
     "text": [
      "INFO:tensorflow:Using default config.\n",
      "INFO:tensorflow:Using config: {'_model_dir': 'tmp/model', '_tf_random_seed': None, '_save_summary_steps': 100, '_save_checkpoints_steps': None, '_save_checkpoints_secs': 600, '_session_config': allow_soft_placement: true\n",
      "graph_options {\n",
      "  rewrite_options {\n",
      "    meta_optimizer_iterations: ONE\n",
      "  }\n",
      "}\n",
      ", '_keep_checkpoint_max': 5, '_keep_checkpoint_every_n_hours': 10000, '_log_step_count_steps': 100, '_train_distribute': None, '_device_fn': None, '_protocol': None, '_eval_distribute': None, '_experimental_distribute': None, '_service': None, '_cluster_spec': <tensorflow.python.training.server_lib.ClusterSpec object at 0x11fa103c8>, '_task_type': 'worker', '_task_id': 0, '_global_id_in_cluster': 0, '_master': '', '_evaluation_master': '', '_is_chief': True, '_num_ps_replicas': 0, '_num_worker_replicas': 1}\n"
     ]
    }
   ],
   "source": [
    "classifier = tf.estimator.DNNClassifier(\n",
    "    feature_columns=feature_columns, \n",
    "    hidden_units=hidden_units_spec,\n",
    "    model_dir=tmp_dir_spec)"
   ]
  },
  {
   "cell_type": "markdown",
   "metadata": {},
   "source": [
    "# Train the network\n",
    "The next step is to train the classifier using the data. to do this you build an input function that specifies the features (aka ‘x’) and the labels (aka ‘y’). This is done by specifiying it as a pandas_input_fn:# "
   ]
  },
  {
   "cell_type": "code",
   "execution_count": 145,
   "metadata": {},
   "outputs": [],
   "source": [
    "# Define the training input function\n",
    "train_input_fn = tf.estimator.inputs.pandas_input_fn(x=training_features,\n",
    "                                                     y=training_labels['PERSON_NEOPLASM_CANCER_STATUS'],\n",
    "                                                     num_epochs=epochs_spec,shuffle=True)\n",
    "    "
   ]
  },
  {
   "cell_type": "markdown",
   "metadata": {},
   "source": [
    "# \n",
    "And now you can train the neural network by giving it the input function, and the number of steps you want to use to train it. Experiment with different step numbers to get different results. In my case 2000 steps"
   ]
  },
  {
   "cell_type": "code",
   "execution_count": 146,
   "metadata": {},
   "outputs": [
    {
     "name": "stdout",
     "output_type": "stream",
     "text": [
      "INFO:tensorflow:Calling model_fn.\n",
      "INFO:tensorflow:Done calling model_fn.\n",
      "INFO:tensorflow:Create CheckpointSaverHook.\n",
      "INFO:tensorflow:Graph was finalized.\n",
      "INFO:tensorflow:Restoring parameters from tmp/model/model.ckpt-162\n",
      "INFO:tensorflow:Running local_init_op.\n",
      "INFO:tensorflow:Done running local_init_op.\n",
      "INFO:tensorflow:Saving checkpoints for 162 into tmp/model/model.ckpt.\n",
      "INFO:tensorflow:loss = 65.57825, step = 163\n",
      "INFO:tensorflow:Saving checkpoints for 189 into tmp/model/model.ckpt.\n",
      "INFO:tensorflow:Loss for final step: 7.7222624.\n"
     ]
    },
    {
     "data": {
      "text/plain": [
       "<tensorflow.python.estimator.canned.dnn.DNNClassifier at 0x11fa10c18>"
      ]
     },
     "execution_count": 146,
     "metadata": {},
     "output_type": "execute_result"
    }
   ],
   "source": [
    "classifier.train(input_fn=train_input_fn, steps=steps_spec)"
   ]
  },
  {
   "cell_type": "code",
   "execution_count": 147,
   "metadata": {},
   "outputs": [],
   "source": [
    "# Define the test input function\n",
    " test_input_fn = tf.estimator.inputs.pandas_input_fn(\n",
    "                    x=testing_features, \n",
    "                    y=testing_labels['PERSON_NEOPLASM_CANCER_STATUS'], \n",
    "                    num_epochs=epochs_spec, \n",
    "                    shuffle=False)"
   ]
  },
  {
   "cell_type": "markdown",
   "metadata": {},
   "source": [
    "Now, we can ask the classifier to tell evaluate the test input function, and tell us its accuracy. It goes through the test set, and compares its classifications to the actual values, and uses this to calculate how often it was right, giving us an accuracy score:"
   ]
  },
  {
   "cell_type": "code",
   "execution_count": 148,
   "metadata": {},
   "outputs": [
    {
     "name": "stdout",
     "output_type": "stream",
     "text": [
      "INFO:tensorflow:Calling model_fn.\n",
      "WARNING:tensorflow:Trapezoidal rule is known to produce incorrect PR-AUCs; please switch to \"careful_interpolation\" instead.\n",
      "WARNING:tensorflow:Trapezoidal rule is known to produce incorrect PR-AUCs; please switch to \"careful_interpolation\" instead.\n",
      "INFO:tensorflow:Done calling model_fn.\n",
      "INFO:tensorflow:Starting evaluation at 2019-04-05-07:51:01\n",
      "INFO:tensorflow:Graph was finalized.\n",
      "INFO:tensorflow:Restoring parameters from tmp/model/model.ckpt-189\n",
      "INFO:tensorflow:Running local_init_op.\n",
      "INFO:tensorflow:Done running local_init_op.\n",
      "INFO:tensorflow:Finished evaluation at 2019-04-05-07:51:01\n",
      "INFO:tensorflow:Saving dict for global step 189: accuracy = 0.75784755, accuracy_baseline = 0.75784755, auc = 0.5258054, auc_precision_recall = 0.7684066, average_loss = 0.5576782, global_step = 189, label/mean = 0.75784755, loss = 69.09013, precision = 0.75784755, prediction/mean = 0.754101, recall = 1.0\n",
      "INFO:tensorflow:Saving 'checkpoint_path' summary for global step 189: tmp/model/model.ckpt-189\n",
      "Accuracy = 0.7578475475311279\n"
     ]
    }
   ],
   "source": [
    "# Evaluate accuracy.\n",
    "accuracy_score = classifier.evaluate(input_fn=test_input_fn)[\"accuracy\"]\n",
    "print(\"Accuracy = {}\".format(accuracy_score))"
   ]
  },
  {
   "cell_type": "code",
   "execution_count": 149,
   "metadata": {},
   "outputs": [],
   "source": [
    "# Create a prediction set -- this is a list of input features that you want to classify\n",
    "prediction_set = pd.DataFrame({'TISSUE_SOURCE_SITE':[89], 'ANEUPLOIDY_SCORE':[34]})"
   ]
  },
  {
   "cell_type": "code",
   "execution_count": 150,
   "metadata": {},
   "outputs": [],
   "source": [
    "predict_input_fn = tf.estimator.inputs.pandas_input_fn(\n",
    "                      x=prediction_set, \n",
    "                      num_epochs=1, \n",
    "                      shuffle=False)"
   ]
  },
  {
   "cell_type": "code",
   "execution_count": 151,
   "metadata": {},
   "outputs": [
    {
     "name": "stdout",
     "output_type": "stream",
     "text": [
      "INFO:tensorflow:Calling model_fn.\n",
      "INFO:tensorflow:Done calling model_fn.\n",
      "INFO:tensorflow:Graph was finalized.\n",
      "INFO:tensorflow:Restoring parameters from tmp/model/model.ckpt-189\n",
      "INFO:tensorflow:Running local_init_op.\n",
      "INFO:tensorflow:Done running local_init_op.\n"
     ]
    }
   ],
   "source": [
    "# Get a list of the predictions\n",
    "predictions = list(classifier.predict(input_fn=predict_input_fn))"
   ]
  },
  {
   "cell_type": "code",
   "execution_count": 152,
   "metadata": {},
   "outputs": [
    {
     "name": "stdout",
     "output_type": "stream",
     "text": [
      "[{'logits': array([2.3756077], dtype=float32), 'logistic': array([0.9149483], dtype=float32), 'probabilities': array([0.08505175, 0.9149483 ], dtype=float32), 'class_ids': array([1]), 'classes': array([b'1'], dtype=object)}]\n"
     ]
    }
   ],
   "source": [
    "print(predictions)"
   ]
  },
  {
   "cell_type": "code",
   "execution_count": 143,
   "metadata": {},
   "outputs": [],
   "source": [
    "#predicted_classes = [p[\"classes\"] for p in predictions] \n",
    "#results=np.concatenate(predictions) \n",
    "#print(predicted_classes)"
   ]
  },
  {
   "cell_type": "code",
   "execution_count": null,
   "metadata": {},
   "outputs": [],
   "source": []
  },
  {
   "cell_type": "code",
   "execution_count": null,
   "metadata": {},
   "outputs": [],
   "source": []
  },
  {
   "cell_type": "code",
   "execution_count": null,
   "metadata": {},
   "outputs": [],
   "source": []
  }
 ],
 "metadata": {
  "kernelspec": {
   "display_name": "Python 3",
   "language": "python",
   "name": "python3"
  },
  "language_info": {
   "codemirror_mode": {
    "name": "ipython",
    "version": 3
   },
   "file_extension": ".py",
   "mimetype": "text/x-python",
   "name": "python",
   "nbconvert_exporter": "python",
   "pygments_lexer": "ipython3",
   "version": "3.7.3"
  }
 },
 "nbformat": 4,
 "nbformat_minor": 2
}
